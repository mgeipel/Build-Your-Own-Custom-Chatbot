{
 "cells": [
  {
   "cell_type": "markdown",
   "id": "124e5672",
   "metadata": {},
   "source": [
    "# Custom Chatbot Project"
   ]
  },
  {
   "cell_type": "markdown",
   "id": "2a4a94b3",
   "metadata": {},
   "source": [
    "The dataset comprises the abstracts of the popular book on [www.goodreads.com](https://www.goodreads.com) for the years 2022 to 2024. This is data that is unknown to the model and thus a good test for the RAG setup."
   ]
  },
  {
   "cell_type": "code",
   "execution_count": 51,
   "id": "0404af95",
   "metadata": {},
   "outputs": [],
   "source": [
    "import openai\n",
    "import os\n",
    "\n",
    "openai.api_base = \"https://openai.vocareum.com/v1\"\n",
    "# get the api key from the environment variable\n",
    "openai.api_key = os.getenv(\"VOC_OPENAI_API_KEY\") \n",
    "\n",
    "from openai import OpenAI\n",
    "\n",
    "client = OpenAI(\n",
    "  api_key=openai.api_key,  \n",
    "    base_url=openai.api_base\n",
    ")"
   ]
  },
  {
   "cell_type": "markdown",
   "id": "a63d4c5f",
   "metadata": {},
   "source": [
    "## Data Wrangling\n",
    "\n",
    "In the cells below, load your chosen dataset into a `pandas` dataframe with a column named `\"text\"`. This column should contain all of your text data, separated into at least 20 rows."
   ]
  },
  {
   "cell_type": "code",
   "execution_count": 52,
   "id": "c69b83a1",
   "metadata": {},
   "outputs": [],
   "source": [
    "\n",
    "import pandas as pd\n",
    "import requests\n",
    "from bs4 import BeautifulSoup\n",
    "\n",
    "years = [\"2022\", \"2023\", \"2024\"]\n",
    "\n",
    "# Download the HTML files\n",
    "for year in years:\n",
    "    resp = requests.get(f\"https://www.goodreads.com/book/popular_by_date/{year}\")\n",
    "    with open(f\"goodreads_{year}.html\", \"w\", encoding='utf-8') as f:\n",
    "        f.write(resp.text)\n"
   ]
  },
  {
   "cell_type": "code",
   "execution_count": 53,
   "id": "0a595980",
   "metadata": {},
   "outputs": [
    {
     "name": "stdout",
     "output_type": "stream",
     "text": [
      "Number of books: 45\n",
      "                                                text\n",
      "0  The Housemaid (The Housemaid, #1) by Freida Mc...\n",
      "1  It Starts with Us (It Ends with Us, #2) by Col...\n",
      "2  Reminders of Him by Colleen Hoover (2022)\\nA t...\n",
      "3  Book Lovers by Emily Henry (2022)\\nOne summer....\n",
      "4  Tomorrow, and Tomorrow, and Tomorrow by Gabrie...\n"
     ]
    }
   ],
   "source": [
    "\n",
    "# read the data\n",
    "books_abstracts = []\n",
    "for year in years:\n",
    "    with open(f\"goodreads_{year}.html\", \"r\", encoding='utf-8') as f:\n",
    "        html = f.read()\n",
    "\n",
    "    # parse the HTML\n",
    "    soup = BeautifulSoup(html, 'html.parser')\n",
    "    for item in soup.find_all('article', class_='BookListItem'):\n",
    "\n",
    "        title = item.find('h3', class_='Text Text__title3 Text__umber').text\n",
    "        authors = item.find('div', class_='BookListItem__authors').text\n",
    "        abstract = item.find('div', class_='TruncatedContent').text\n",
    "        books_abstracts.append(f\"{title} by {authors} ({year})\\n{abstract}\")\n",
    "\n",
    "\n",
    "# save the data\n",
    "df = pd.DataFrame(books_abstracts, columns=[\"text\"])\n",
    "df.to_csv(\"goodreads_books.csv\", index=False)\n",
    "\n",
    "print(f\"Number of books: {len(df)}\")\n",
    "\n",
    "print(df.head())"
   ]
  },
  {
   "cell_type": "code",
   "execution_count": 54,
   "id": "045158d7",
   "metadata": {},
   "outputs": [
    {
     "data": {
      "text/html": [
       "<div>\n",
       "<style scoped>\n",
       "    .dataframe tbody tr th:only-of-type {\n",
       "        vertical-align: middle;\n",
       "    }\n",
       "\n",
       "    .dataframe tbody tr th {\n",
       "        vertical-align: top;\n",
       "    }\n",
       "\n",
       "    .dataframe thead th {\n",
       "        text-align: right;\n",
       "    }\n",
       "</style>\n",
       "<table border=\"1\" class=\"dataframe\">\n",
       "  <thead>\n",
       "    <tr style=\"text-align: right;\">\n",
       "      <th></th>\n",
       "      <th>text</th>\n",
       "      <th>embeddings</th>\n",
       "    </tr>\n",
       "  </thead>\n",
       "  <tbody>\n",
       "    <tr>\n",
       "      <th>0</th>\n",
       "      <td>The Housemaid (The Housemaid, #1) by Freida Mc...</td>\n",
       "      <td>[-0.009157824330031872, -0.02493787370622158, ...</td>\n",
       "    </tr>\n",
       "    <tr>\n",
       "      <th>1</th>\n",
       "      <td>It Starts with Us (It Ends with Us, #2) by Col...</td>\n",
       "      <td>[0.0013730453792959452, -0.003243256825953722,...</td>\n",
       "    </tr>\n",
       "    <tr>\n",
       "      <th>2</th>\n",
       "      <td>Reminders of Him by Colleen Hoover (2022)\\nA t...</td>\n",
       "      <td>[-0.00190580019261688, -0.01718563586473465, -...</td>\n",
       "    </tr>\n",
       "    <tr>\n",
       "      <th>3</th>\n",
       "      <td>Book Lovers by Emily Henry (2022)\\nOne summer....</td>\n",
       "      <td>[-0.010121977888047695, -0.017106615006923676,...</td>\n",
       "    </tr>\n",
       "    <tr>\n",
       "      <th>4</th>\n",
       "      <td>Tomorrow, and Tomorrow, and Tomorrow by Gabrie...</td>\n",
       "      <td>[0.013451321050524712, -0.022161180153489113, ...</td>\n",
       "    </tr>\n",
       "  </tbody>\n",
       "</table>\n",
       "</div>"
      ],
      "text/plain": [
       "                                                text  \\\n",
       "0  The Housemaid (The Housemaid, #1) by Freida Mc...   \n",
       "1  It Starts with Us (It Ends with Us, #2) by Col...   \n",
       "2  Reminders of Him by Colleen Hoover (2022)\\nA t...   \n",
       "3  Book Lovers by Emily Henry (2022)\\nOne summer....   \n",
       "4  Tomorrow, and Tomorrow, and Tomorrow by Gabrie...   \n",
       "\n",
       "                                          embeddings  \n",
       "0  [-0.009157824330031872, -0.02493787370622158, ...  \n",
       "1  [0.0013730453792959452, -0.003243256825953722,...  \n",
       "2  [-0.00190580019261688, -0.01718563586473465, -...  \n",
       "3  [-0.010121977888047695, -0.017106615006923676,...  \n",
       "4  [0.013451321050524712, -0.022161180153489113, ...  "
      ]
     },
     "execution_count": 54,
     "metadata": {},
     "output_type": "execute_result"
    }
   ],
   "source": [
    "# code taken from the class notebook casestudy.ipynb\n",
    "# Create a list to store the embeddings\n",
    "EMBEDDING_MODEL_NAME = \"text-embedding-ada-002\"\n",
    "batch_size = 100\n",
    "embeddings = []\n",
    "for i in range(0, len(df), batch_size):\n",
    "    # Send text data to OpenAI model to get embeddings\n",
    "    response = client.embeddings.create(\n",
    "        input=df.iloc[i:i+batch_size][\"text\"].tolist(),\n",
    "        model=EMBEDDING_MODEL_NAME\n",
    "    )\n",
    "    \n",
    "    # Add embeddings to list\n",
    "    embeddings.extend([data.embedding for data in response.data])\n",
    "\n",
    "# Add embeddings list to dataframe\n",
    "df[\"embeddings\"] = embeddings\n",
    "df.to_csv(\"goodreads_books_embedded.csv\", index=False)\n",
    "df.head()"
   ]
  },
  {
   "cell_type": "code",
   "execution_count": null,
   "id": "20ef34e5",
   "metadata": {},
   "outputs": [],
   "source": []
  },
  {
   "cell_type": "markdown",
   "id": "ae769871",
   "metadata": {},
   "source": [
    "## Custom Query Completion\n",
    "\n",
    "TODO: In the cells below, compose a custom query using your chosen dataset and retrieve results from an OpenAI `Completion` model. You may copy and paste any useful code from the course materials."
   ]
  },
  {
   "cell_type": "code",
   "execution_count": 55,
   "id": "582f0656",
   "metadata": {},
   "outputs": [],
   "source": [
    "# code taken from the class notebook casestudy.ipynb and from https://github.com/openai/openai-python/blob/release-v0.28.0/openai/embeddings_utils.py\n",
    "import numpy as np\n",
    "\n",
    "def cosine_similarity(a, b):\n",
    "    return np.dot(a, b) / (np.linalg.norm(a) * np.linalg.norm(b))\n",
    "\n",
    "def distances_from_embeddings(query_embedding,embeddings):\n",
    "    distances = [\n",
    "        1-cosine_similarity(query_embedding, embedding)\n",
    "        for embedding in embeddings\n",
    "    ]\n",
    "    return distances\n",
    "\n",
    "def get_embedding(text, engine=EMBEDDING_MODEL_NAME):\n",
    "    return client.embeddings.create(\n",
    "        input=[text],\n",
    "        model=engine\n",
    "    ).data[0].embedding\n",
    "\n",
    "def get_rows_sorted_by_relevance(question, df):\n",
    "    \"\"\"\n",
    "    Function that takes in a question string and a dataframe containing\n",
    "    rows of text and associated embeddings, and returns that dataframe\n",
    "    sorted from least to most relevant for that question\n",
    "    \"\"\"\n",
    "    \n",
    "    # Get embeddings for the question text\n",
    "    question_embeddings = get_embedding(question, engine=EMBEDDING_MODEL_NAME)\n",
    "    \n",
    "    # Make a copy of the dataframe and add a \"distances\" column containing\n",
    "    # the cosine distances between each row's embeddings and the\n",
    "    # embeddings of the question\n",
    "    df_copy = df.copy()\n",
    "    df_copy[\"distances\"] = distances_from_embeddings(\n",
    "        question_embeddings,\n",
    "        df_copy[\"embeddings\"].values,\n",
    "    )\n",
    "    \n",
    "    # Sort the copied dataframe by the distances and return it\n",
    "    # (shorter distance = more relevant so we sort in ascending order)\n",
    "    df_copy.sort_values(\"distances\", ascending=True, inplace=True)\n",
    "    return df_copy"
   ]
  },
  {
   "cell_type": "code",
   "execution_count": 56,
   "id": "8b6e1f75",
   "metadata": {},
   "outputs": [
    {
     "data": {
      "text/html": [
       "<div>\n",
       "<style scoped>\n",
       "    .dataframe tbody tr th:only-of-type {\n",
       "        vertical-align: middle;\n",
       "    }\n",
       "\n",
       "    .dataframe tbody tr th {\n",
       "        vertical-align: top;\n",
       "    }\n",
       "\n",
       "    .dataframe thead th {\n",
       "        text-align: right;\n",
       "    }\n",
       "</style>\n",
       "<table border=\"1\" class=\"dataframe\">\n",
       "  <thead>\n",
       "    <tr style=\"text-align: right;\">\n",
       "      <th></th>\n",
       "      <th>text</th>\n",
       "      <th>embeddings</th>\n",
       "      <th>distances</th>\n",
       "    </tr>\n",
       "  </thead>\n",
       "  <tbody>\n",
       "    <tr>\n",
       "      <th>28</th>\n",
       "      <td>The Woman in Me by Britney Spears (2023)\\nThe ...</td>\n",
       "      <td>[-0.01765580102801323, -0.022641273215413094, ...</td>\n",
       "      <td>0.158990</td>\n",
       "    </tr>\n",
       "    <tr>\n",
       "      <th>9</th>\n",
       "      <td>Never Lie by Freida McFadden (2022)\\nNewlyweds...</td>\n",
       "      <td>[-0.020385894924402237, -0.011535530909895897,...</td>\n",
       "      <td>0.218110</td>\n",
       "    </tr>\n",
       "    <tr>\n",
       "      <th>3</th>\n",
       "      <td>Book Lovers by Emily Henry (2022)\\nOne summer....</td>\n",
       "      <td>[-0.010121977888047695, -0.017106615006923676,...</td>\n",
       "      <td>0.218744</td>\n",
       "    </tr>\n",
       "    <tr>\n",
       "      <th>6</th>\n",
       "      <td>I'm Glad My Mom Died by Jennette McCurdy (2022...</td>\n",
       "      <td>[-0.016894932836294174, -0.0012957364087924361...</td>\n",
       "      <td>0.221718</td>\n",
       "    </tr>\n",
       "    <tr>\n",
       "      <th>19</th>\n",
       "      <td>None of This Is True by Lisa Jewell (2023)\\nLi...</td>\n",
       "      <td>[0.004881617147475481, 0.0009463515016250312, ...</td>\n",
       "      <td>0.223934</td>\n",
       "    </tr>\n",
       "  </tbody>\n",
       "</table>\n",
       "</div>"
      ],
      "text/plain": [
       "                                                 text  \\\n",
       "28  The Woman in Me by Britney Spears (2023)\\nThe ...   \n",
       "9   Never Lie by Freida McFadden (2022)\\nNewlyweds...   \n",
       "3   Book Lovers by Emily Henry (2022)\\nOne summer....   \n",
       "6   I'm Glad My Mom Died by Jennette McCurdy (2022...   \n",
       "19  None of This Is True by Lisa Jewell (2023)\\nLi...   \n",
       "\n",
       "                                           embeddings  distances  \n",
       "28  [-0.01765580102801323, -0.022641273215413094, ...   0.158990  \n",
       "9   [-0.020385894924402237, -0.011535530909895897,...   0.218110  \n",
       "3   [-0.010121977888047695, -0.017106615006923676,...   0.218744  \n",
       "6   [-0.016894932836294174, -0.0012957364087924361...   0.221718  \n",
       "19  [0.004881617147475481, 0.0009463515016250312, ...   0.223934  "
      ]
     },
     "execution_count": 56,
     "metadata": {},
     "output_type": "execute_result"
    }
   ],
   "source": [
    "ranking = get_rows_sorted_by_relevance(\"Books by Britney\", df)\n",
    "ranking.head()"
   ]
  },
  {
   "cell_type": "code",
   "execution_count": 57,
   "id": "c403f543",
   "metadata": {},
   "outputs": [],
   "source": [
    "# based on the class notebook casestudy.ipynb \n",
    "\n",
    "import tiktoken\n",
    "\n",
    "def create_prompt(question, df, max_token_count):\n",
    "    \"\"\"\n",
    "    Given a question and a dataframe containing rows of text and their\n",
    "    embeddings, return a text prompt to send to a Completion model\n",
    "    \"\"\"\n",
    "    # Create a tokenizer that is designed to align with our embeddings\n",
    "    tokenizer = tiktoken.get_encoding(\"cl100k_base\")\n",
    "    \n",
    "    # Count the number of tokens in the prompt template and question\n",
    "    prompt_template = \"\"\"\n",
    "You are an expert for popular books published in the years 2022, 2023 and 2024.\n",
    "Answer the question based on the context below, and if the question\n",
    "can't be answered based on the context, say \"I don't know\"\n",
    "\n",
    "Context: \n",
    "\n",
    "{}\n",
    "\n",
    "---\n",
    "\n",
    "Question: {}\n",
    "Answer:\"\"\"\n",
    "    \n",
    "    current_token_count = len(tokenizer.encode(prompt_template)) + \\\n",
    "                            len(tokenizer.encode(question))\n",
    "    \n",
    "    context = []\n",
    "    for text in get_rows_sorted_by_relevance(question, df)[\"text\"].values:\n",
    "        \n",
    "        # Increase the counter based on the number of tokens in this row\n",
    "        text_token_count = len(tokenizer.encode(text))\n",
    "        current_token_count += text_token_count\n",
    "        \n",
    "        # Add the row of text to the list if we haven't exceeded the max\n",
    "        if current_token_count <= max_token_count:\n",
    "            context.append(text)\n",
    "        else:\n",
    "            break\n",
    "\n",
    "    return prompt_template.format(\"\\n\\n###\\n\\n\".join(context), question)"
   ]
  },
  {
   "cell_type": "code",
   "execution_count": 58,
   "id": "74280b92",
   "metadata": {},
   "outputs": [],
   "source": [
    "# based on the class notebook casestudy.ipynb \n",
    "\n",
    "COMPLETION_MODEL_NAME = \"gpt-3.5-turbo-instruct\"\n",
    "\n",
    "def answer_question(\n",
    "    question, df, max_prompt_tokens=1800, max_answer_tokens=150\n",
    "):\n",
    "    \"\"\"\n",
    "    Given a question, a dataframe containing rows of text, and a maximum\n",
    "    number of desired tokens in the prompt and response, return the\n",
    "    answer to the question according to an OpenAI Completion model\n",
    "    \n",
    "    If the model produces an error, return an empty string\n",
    "    \"\"\"\n",
    "    \n",
    "    prompt = create_prompt(question, df, max_prompt_tokens)\n",
    "    \n",
    "    try:\n",
    "        response = client.completions.create(\n",
    "            model=COMPLETION_MODEL_NAME,\n",
    "            prompt=prompt,\n",
    "            max_tokens=max_answer_tokens\n",
    "        )\n",
    "        return response.choices[0].text.strip()\n",
    "    except Exception as e:\n",
    "        print(e)\n",
    "        return \"\"\n",
    "    \n",
    "def answer_question_with_model_only(\n",
    "    question, max_answer_tokens=150\n",
    "):\n",
    "   \n",
    "    try:\n",
    "        response = client.completions.create(\n",
    "            model=COMPLETION_MODEL_NAME,\n",
    "            prompt=\"You are an expert for popular books published in the years 2022, 2023 and 2024. Answer the following question: \" + question,\n",
    "            max_tokens=max_answer_tokens\n",
    "        )\n",
    "        return response.choices[0].text.strip()\n",
    "    except Exception as e:\n",
    "        print(e)\n",
    "        return \"\""
   ]
  },
  {
   "cell_type": "markdown",
   "id": "1783f146",
   "metadata": {},
   "source": [
    "## Custom Performance Demonstration\n",
    "\n",
    "TODO: In the cells below, demonstrate the performance of your custom query using at least 2 questions. For each question, show the answer from a basic `Completion` model query as well as the answer from your custom query."
   ]
  },
  {
   "cell_type": "markdown",
   "id": "4f11fdc0",
   "metadata": {},
   "source": [
    "### Question 1"
   ]
  },
  {
   "cell_type": "code",
   "execution_count": 59,
   "id": "4901c850",
   "metadata": {},
   "outputs": [
    {
     "data": {
      "text/plain": [
       "'Yes, I would highly recommend Divine Rivals (Letters of Enchantment, #1) by Rebecca Ross and The Serpent and the Wings of Night (Crowns of Nyaxia, #1) by Carissa Broadbent. These books both have elements of fantasy and magic in their plot and have received critical acclaim as popular books published in 2023 and 2022 respectively.'"
      ]
     },
     "execution_count": 59,
     "metadata": {},
     "output_type": "execute_result"
    }
   ],
   "source": [
    "answer_question(\"Can you reccomend a books with fantasy and magic?\", df)"
   ]
  },
  {
   "cell_type": "code",
   "execution_count": 60,
   "id": "bd7a093b",
   "metadata": {},
   "outputs": [
    {
     "data": {
      "text/plain": [
       "\"I don't know.\""
      ]
     },
     "execution_count": 60,
     "metadata": {},
     "output_type": "execute_result"
    }
   ],
   "source": [
    "# run with an empty dataframe\n",
    "answer_question(\"Can you reccomend a books with fantasy and magic?\", df[0:0])"
   ]
  },
  {
   "cell_type": "code",
   "execution_count": 61,
   "id": "4fa8d9c5",
   "metadata": {},
   "outputs": [
    {
     "data": {
      "text/plain": [
       "'Sure! I would recommend \"The Blood of Stars\" by Elizabeth Lim, published in 2022. It follows a young girl named Maia who possesses powerful magic that she must learn to control in order to save her kingdom from dark forces. Another great read is \"The Court of Miracles\" by Kester Grant, published in 2023. This book is set in an alternate Paris where magic and fantasy elements are seamlessly woven into the story as a young girl navigates through a criminal underworld to save her sister. Lastly, I would suggest \"The Last Magician\" by Lisa Maxwell, published in 2024. It follows a girl named Esta who has the ability to time travel and must use her powers to save a magical artifact'"
      ]
     },
     "execution_count": 61,
     "metadata": {},
     "output_type": "execute_result"
    }
   ],
   "source": [
    "answer_question_with_model_only(\"Can you reccomend a books with fantasy and magic?\")"
   ]
  },
  {
   "cell_type": "markdown",
   "id": "7fb245fc",
   "metadata": {},
   "source": [
    "The listed books are either from previous years or invented."
   ]
  },
  {
   "cell_type": "markdown",
   "id": "6e86e37c",
   "metadata": {},
   "source": [
    "### Question 2"
   ]
  },
  {
   "cell_type": "code",
   "execution_count": 62,
   "id": "6f646989",
   "metadata": {},
   "outputs": [
    {
     "data": {
      "text/plain": [
       "'Yes, Britney Spears released her book \"The Woman in Me\" in 2023.'"
      ]
     },
     "execution_count": 62,
     "metadata": {},
     "output_type": "execute_result"
    }
   ],
   "source": [
    "answer_question(\"Did Britney write any books in 2023?\", df)"
   ]
  },
  {
   "cell_type": "code",
   "execution_count": 63,
   "id": "11c07a54",
   "metadata": {},
   "outputs": [
    {
     "data": {
      "text/plain": [
       "\"I don't know\""
      ]
     },
     "execution_count": 63,
     "metadata": {},
     "output_type": "execute_result"
    }
   ],
   "source": [
    "# run with an empty dataframe\n",
    "answer_question(\"Did Britney write any books in 2023?\", df[0:0])"
   ]
  },
  {
   "cell_type": "code",
   "execution_count": 64,
   "id": "2eeb7ed7",
   "metadata": {},
   "outputs": [
    {
     "data": {
      "text/plain": [
       "'As an AI, I do not have access to current or future information. I am unable to confirm if Britney wrote any books in 2023.'"
      ]
     },
     "execution_count": 64,
     "metadata": {},
     "output_type": "execute_result"
    }
   ],
   "source": [
    "answer_question_with_model_only(\"Did Britney write any books in 2023?\")"
   ]
  },
  {
   "cell_type": "markdown",
   "id": "1cb2559d",
   "metadata": {},
   "source": []
  }
 ],
 "metadata": {
  "kernelspec": {
   "display_name": ".venv",
   "language": "python",
   "name": "python3"
  },
  "language_info": {
   "codemirror_mode": {
    "name": "ipython",
    "version": 3
   },
   "file_extension": ".py",
   "mimetype": "text/x-python",
   "name": "python",
   "nbconvert_exporter": "python",
   "pygments_lexer": "ipython3",
   "version": "3.9.13"
  }
 },
 "nbformat": 4,
 "nbformat_minor": 5
}
